{
 "cells": [
  {
   "cell_type": "code",
   "execution_count": 4,
   "id": "388c759f",
   "metadata": {},
   "outputs": [
    {
     "name": "stdout",
     "output_type": "stream",
     "text": [
      "row:  318.5\n",
      "col:  255.5\n",
      "final X and Y in mm:  -0.0048828125 -0.6103515625\n",
      "Distance in mm: 239.98203377650017\n",
      "Error in mm: -0.01796622349982613\n"
     ]
    }
   ],
   "source": [
    "\n",
    "# -*- coding: utf-8 -*-\n",
    "\"\"\"\n",
    "Created on Sun Jun 14 18:05:11 2020\n",
    "\n",
    "@author: Firoj\n",
    "\"\"\"\n",
    "\n",
    "import numpy as np\n",
    "import re\n",
    "\n",
    "def utf16_decimals(char):\n",
    "    char =re.sub('[,+]','',char)\n",
    "    char =re.sub('[E]','e',char)\n",
    "    return int(float(char))\n",
    "file=open(r'F:\\MScEE\\ATLaser\\project\\result_F\\text_z5.txt', encoding='utf-16-le')\n",
    "lines=file.readlines()\n",
    "pxl=np.zeros((512, 512))#creat empty 2D array\n",
    "lenth = (len(lines))\n",
    "row = 0\n",
    "for l in lines[24:lenth]:#first row data print, 23-24 ...\n",
    "    line=(l.split())\n",
    "    for i in range(1,513):\n",
    "        encoded_char = utf16_decimals(line[i])\n",
    "        pxl[row, i-1] = encoded_char\n",
    "    row +=1\n",
    "data = pxl.astype(np.float64) / pxl.max() # normalize \n",
    "data = 255 - 255 *data # 'now scale by 255\n",
    "r1 = 0\n",
    "c1 = 0\n",
    "center1 = []\n",
    "center2 = []\n",
    "for row in data:\n",
    "    for col in row:\n",
    "        v = np.mean(col)\n",
    "        if(v <= 120):\n",
    "            #print(col)\n",
    "            #print(\"r1:\", r1, \"c1\", c1)\n",
    "            center1.append(r1)\n",
    "            center2.append(c1)\n",
    "        c1+=1\n",
    "    r1 += 1\n",
    "    c1 = 0\n",
    "#print(len(center1), len(center2))\n",
    "xx1 = np.min(center1)\n",
    "xx2 = np.max(center1)\n",
    "yy1 = np.min(center2)\n",
    "yy2 = np.max(center2)\n",
    "print(\"row: \" ,np.mean([xx1, xx2]))\n",
    "print(\"col: \" ,np.mean([yy1, yy2]))\n",
    "#transfer matrix linear\n",
    "X = (5/512)*np.mean([yy1, yy2]) - 2.5\n",
    "\n",
    "Y = (-5/512)*np.mean([xx1, xx2]) + 2.5\n",
    "\n",
    "print(\"final X and Y in mm: \", X, Y)\n",
    "\n",
    "#%%Distance Calculation\n",
    "x1=235; x2=245\n",
    "u1=-1.1767578125\n",
    "u2=-0.6103515625 # position of object for calibration, see 5.3 in the Project Report\n",
    "u= -0.888671875 # object at position z 0\n",
    "d=x2-x1\n",
    "k=u2*x2-u1*x1\n",
    "n=(u1-u2)*x1*x2\n",
    "x_1=n/(u*d-k)\n",
    "print(\"Distance in mm:\", x_1) # \n",
    "print(\"Error in mm:\", x_1 - 240) # error according theoretical distance 240"
   ]
  },
  {
   "cell_type": "code",
   "execution_count": null,
   "id": "d50c309c",
   "metadata": {},
   "outputs": [],
   "source": []
  }
 ],
 "metadata": {
  "kernelspec": {
   "display_name": "Python 3 (ipykernel)",
   "language": "python",
   "name": "python3"
  },
  "language_info": {
   "codemirror_mode": {
    "name": "ipython",
    "version": 3
   },
   "file_extension": ".py",
   "mimetype": "text/x-python",
   "name": "python",
   "nbconvert_exporter": "python",
   "pygments_lexer": "ipython3",
   "version": "3.9.7"
  }
 },
 "nbformat": 4,
 "nbformat_minor": 5
}
